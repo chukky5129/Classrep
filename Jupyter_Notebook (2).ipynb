{
 "cells": [
  {
   "cell_type": "markdown",
   "metadata": {},
   "source": [
    "<center>\n",
    "    <img src=\"https://cf-courses-data.s3.us.cloud-object-storage.appdomain.cloud/IBMDeveloperSkillsNetwork-DS0105EN-SkillsNetwork/labs/Module2/images/SN_web_lightmode.png\" width=\"300\" alt=\"cognitiveclass.ai logo\">\n",
    "</center>\n"
   ]
  },
  {
   "cell_type": "markdown",
   "metadata": {},
   "source": [
    "#### Add your code below following the instructions given in the course\n"
   ]
  },
  {
   "cell_type": "code",
   "execution_count": null,
   "metadata": {},
   "outputs": [],
   "source": [
    "DataScienceEcosystem.ipynb"
   ]
  },
  {
   "cell_type": "code",
   "execution_count": null,
   "metadata": {},
   "outputs": [],
   "source": [
    "Data Science Tools and Ecosystem"
   ]
  },
  {
   "cell_type": "markdown",
   "metadata": {},
   "source": [
    "In this notebook, Data Science Tools and Ecosystem are summarized "
   ]
  },
  {
   "cell_type": "code",
   "execution_count": null,
   "metadata": {},
   "outputs": [],
   "source": [
    "Some of the popular languages that Data Scientists use are:\n",
    "        python\n",
    "        SQL\n",
    "        Java\n",
    "        Julia"
   ]
  },
  {
   "cell_type": "code",
   "execution_count": null,
   "metadata": {},
   "outputs": [],
   "source": [
    "Some of the commonly used libraries used by Data Scientist include:\n",
    "    Numpy\n",
    "    Pandas\n",
    "    Scikit-learn\n",
    "    Matplotlib\n",
    "    seaborn"
   ]
  },
  {
   "cell_type": "code",
   "execution_count": null,
   "metadata": {},
   "outputs": [],
   "source": [
    "Data Science Tool:\n",
    "    Jupyter Notebook\n",
    "    RStudio\n",
    "    Visual Studio Code"
   ]
  },
  {
   "cell_type": "markdown",
   "metadata": {},
   "source": [
    "Below are few Examples of evaluating arithmetic expressions in python:\n",
    "    # Additon\n",
    "    result = 5+ 3\n",
    "    print (result) # output: 8\n",
    "    # Subtraction\n",
    "    Difference = 10-2\n",
    "    print (Difference) # output: 8\n",
    "    # Multiplication\n",
    "    product  4 * 6 \n",
    "    print (product) # output: 24\n",
    "    "
   ]
  },
  {
   "cell_type": "code",
   "execution_count": null,
   "metadata": {},
   "outputs": [],
   "source": [
    "create a code cell to multiply and add numbers\n",
    "expression = (5 * 2) + 6\n",
    "# Evaluate the expression\n",
    "result = expression\n",
    "print (result) #output: 16"
   ]
  },
  {
   "cell_type": "code",
   "execution_count": null,
   "metadata": {},
   "outputs": [],
   "source": [
    "create a code cell to covert 400 minutes to hour\n",
    "# convert mins to hours\n",
    "minutes = 400\n",
    "hours = minutes/60\n",
    "print the result\n",
    "print (f''{minutes} minutes is equal to {hours:.2f} hours'')\n",
    "# output: 400 minutes is equal to 6.67hours\n",
    "\n",
    "\n"
   ]
  },
  {
   "cell_type": "markdown",
   "metadata": {},
   "source": [
    "Objectives:\n",
    "Python objectives:\n",
    "readability and Ease to use\n",
    "extensive ecosystem of libraries and framework\n",
    "versatility and general-purpose nature\n",
    "open-soure and free software\n",
    "SQL Objectives:\n",
    "data cleaning and preprocessing\n",
    "Data exploration and analysis\n",
    "Efficient data access and retrieval\n",
    "Scalability and performance\n",
    "Java Objectives:\n",
    "Robustness and Stability\n",
    "integration with enterprise systems\n",
    "Large developer community and ecosystem\n"
   ]
  },
  {
   "cell_type": "code",
   "execution_count": null,
   "metadata": {},
   "outputs": [],
   "source": [
    "Author\n",
    "onwenna chukwudi"
   ]
  }
 ],
 "metadata": {
  "kernelspec": {
   "display_name": "Python",
   "language": "python",
   "name": "conda-env-python-py"
  },
  "language_info": {
   "codemirror_mode": {
    "name": "ipython",
    "version": 3
   },
   "file_extension": ".py",
   "mimetype": "text/x-python",
   "name": "python",
   "nbconvert_exporter": "python",
   "pygments_lexer": "ipython3",
   "version": "3.7.12"
  }
 },
 "nbformat": 4,
 "nbformat_minor": 4
}
