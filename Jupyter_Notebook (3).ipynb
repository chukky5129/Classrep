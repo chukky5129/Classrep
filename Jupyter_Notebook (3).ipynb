{
 "cells": [
  {
   "cell_type": "markdown",
   "metadata": {},
   "source": [
    "<center>\n",
    "    <img src=\"https://cf-courses-data.s3.us.cloud-object-storage.appdomain.cloud/IBMDeveloperSkillsNetwork-DS0105EN-SkillsNetwork/labs/Module2/images/SN_web_lightmode.png\" width=\"300\" alt=\"cognitiveclass.ai logo\">\n",
    "</center>\n"
   ]
  },
  {
   "cell_type": "markdown",
   "metadata": {},
   "source": [
    "\n",
    "Jupyter Notebook for Date Science Tools and Ecosystem"
   ]
  },
  {
   "cell_type": "code",
   "execution_count": null,
   "metadata": {},
   "outputs": [],
   "source": [
    "Title\n",
    "Data Science Tools and Ecosystem"
   ]
  },
  {
   "cell_type": "markdown",
   "metadata": {},
   "source": [
    "Introduction\n",
    "In this notebook, Data Science Tools and Ecosystem are summarized "
   ]
  },
  {
   "cell_type": "markdown",
   "metadata": {},
   "source": [
    "Some of the popular languages that Data Scientists use are:\n",
    "        python\n",
    "        SQL\n",
    "        Java\n",
    "        R\n",
    "        Julia\n",
    "        JavaScript\n",
    "        C/C++\n",
    "        Scala\n",
    "        Go\n",
    "        Matlab\n",
    "        Ruby\n",
    "        visual Basic"
   ]
  },
  {
   "cell_type": "markdown",
   "metadata": {},
   "source": [
    "Some of the commonly used libraries used by Data Scientist include:\n",
    "    Numpy\n",
    "    Pandas\n",
    "    Scikit-learn\n",
    "    Matplotlib\n",
    "    seaborn\n",
    "    TensorFlow/pyTorch\n",
    "    keras\n",
    "    vegas"
   ]
  },
  {
   "cell_type": "code",
   "execution_count": null,
   "metadata": {},
   "outputs": [],
   "source": [
    "Data Science Tool:\n",
    "    Jupyter Notebook\n",
    "    RStudio\n",
    "    Visual Studio Code\n",
    "    spyder\n",
    "    Anaconda"
   ]
  },
  {
   "cell_type": "markdown",
   "metadata": {},
   "source": [
    "Below are few Examples of evaluating arithmetic expressions in python\n",
    "    "
   ]
  },
  {
   "cell_type": "code",
   "execution_count": null,
   "metadata": {},
   "outputs": [],
   "source": [
    "multiply and add numbers\n",
    "expression = (5 * 2) + 6\n",
    "# Evaluate the expression\n",
    "result = expression\n",
    "print (result) #output: 16"
   ]
  },
  {
   "cell_type": "code",
   "execution_count": null,
   "metadata": {},
   "outputs": [],
   "source": [
    "covert 200 minutes to hour\n",
    "arithematic expression\n",
    "# convert mins to hours\n",
    "minutes = \n",
    "hours = minutes/60\n",
    "print the result\n",
    "# output: 200 minutes is equal to 3.33hours\n",
    "\n",
    "\n"
   ]
  },
  {
   "cell_type": "markdown",
   "metadata": {},
   "source": [
    "Objectives:\n",
    "add comment to code cell\n",
    "create markdown cell\n",
    "add ordered and unordered list to markdown cell\n",
    "format content of markdown cells with heading styles\n",
    "\n",
    "\n"
   ]
  },
  {
   "cell_type": "code",
   "execution_count": null,
   "metadata": {},
   "outputs": [],
   "source": [
    "Author\n",
    "onwenna chukwudi"
   ]
  }
 ],
 "metadata": {
  "kernelspec": {
   "display_name": "Python",
   "language": "python",
   "name": "conda-env-python-py"
  },
  "language_info": {
   "codemirror_mode": {
    "name": "ipython",
    "version": 3
   },
   "file_extension": ".py",
   "mimetype": "text/x-python",
   "name": "python",
   "nbconvert_exporter": "python",
   "pygments_lexer": "ipython3",
   "version": "3.7.12"
  }
 },
 "nbformat": 4,
 "nbformat_minor": 4
}
